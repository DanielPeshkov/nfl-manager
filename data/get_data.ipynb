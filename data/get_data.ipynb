{
 "cells": [
  {
   "cell_type": "code",
   "execution_count": 1,
   "metadata": {},
   "outputs": [],
   "source": [
    "import requests\n",
    "from bs4 import BeautifulSoup\n",
    "import pandas as pd\n",
    "import time"
   ]
  },
  {
   "cell_type": "code",
   "execution_count": 69,
   "metadata": {},
   "outputs": [],
   "source": [
    "def get_data(code, name):\n",
    "    url = f'https://www.pro-football-reference.com/teams/{code}/2024_roster.htm'\n",
    "    response = requests.get(url)\n",
    "    html = BeautifulSoup(response.content, 'html.parser')\n",
    "    h = html.body.find('div', attrs={'data-template': 'Partials/Teams/Summary'}).find_all('p')\n",
    "\n",
    "    header = {}\n",
    "    for i in range(len(h[1:])):\n",
    "        link = h[i].find('a')\n",
    "        if link:\n",
    "            header[h[i].find('strong').text[:-1]] = link.text\n",
    "    header['code'] = code\n",
    "    header['team'] = name\n",
    "\n",
    "    t = response.text.split('tbody')\n",
    "    players = []\n",
    "    for row in t[2].split('</tr>')[:-1]:\n",
    "        pnum = BeautifulSoup(row[1:] + '</tr>').find('th').text\n",
    "        # Player Info\n",
    "        pinfo = [i.text if i.text else None for i in BeautifulSoup(row[1:] + '</tr>').findAll('td')]\n",
    "\n",
    "        players.append([pnum, *pinfo[:-2], pinfo[-1]])\n",
    "\n",
    "    df = pd.DataFrame(players, columns=['num', 'player', 'age', 'pos', 'g', 'gs', 'wt', 'ht', 'college', 'birth', 'yrs', 'draft'])\n",
    "    df.num = df.num.replace('', pd.NA).astype('Int8')\n",
    "    df['code'] = code\n",
    "    df['team'] = name\n",
    "\n",
    "    return pd.DataFrame(header, index=[0]), df"
   ]
  },
  {
   "cell_type": "code",
   "execution_count": 54,
   "metadata": {},
   "outputs": [],
   "source": [
    "r2 = requests.get('https://www.pro-football-reference.com/teams/')\n",
    "h2 = BeautifulSoup(r2.content, 'html.parser')\n",
    "\n",
    "table = h2.find('tbody')\n",
    "team_links = []\n",
    "_ = [team_links.append(i) if str(i)[:15] == '<a href=\"/teams' else None for i in table.findAll('a')]"
   ]
  },
  {
   "cell_type": "code",
   "execution_count": null,
   "metadata": {},
   "outputs": [],
   "source": [
    "teams = []\n",
    "players = []\n",
    "\n",
    "for link in team_links:\n",
    "    short, name = link.attrs['href'].split('/')[-2], link.text\n",
    "\n",
    "    team, player = get_data(short, name)\n",
    "    teams.append(team)\n",
    "    players.append(player)\n",
    "    print(f'Finished {name}')\n",
    "    time.sleep(5)"
   ]
  },
  {
   "cell_type": "code",
   "execution_count": 105,
   "metadata": {},
   "outputs": [],
   "source": [
    "pd.concat(teams).reset_index(drop=True).to_csv('teams.csv', index=False)"
   ]
  },
  {
   "cell_type": "code",
   "execution_count": 101,
   "metadata": {},
   "outputs": [],
   "source": [
    "pd.concat(players).reset_index(drop=True).to_csv('players.csv', index=False)"
   ]
  },
  {
   "cell_type": "markdown",
   "metadata": {},
   "source": [
    "## Reloading the Data"
   ]
  },
  {
   "cell_type": "code",
   "execution_count": 1,
   "metadata": {},
   "outputs": [],
   "source": [
    "import pandas as pd"
   ]
  },
  {
   "cell_type": "code",
   "execution_count": 129,
   "metadata": {},
   "outputs": [],
   "source": [
    "teams = pd.read_csv('teams.csv')"
   ]
  },
  {
   "cell_type": "code",
   "execution_count": 73,
   "metadata": {},
   "outputs": [],
   "source": [
    "# 'code': 'code',\n",
    "# 'team': 'team',\n",
    "# 'Coach': 'Coach',\n",
    "# 'Offensive Coordinator': 'Offensive Coordinator',\n",
    "# 'Defensive Coordinator': 'Defensive Coordinator',\n",
    "# 'Stadium': 'Stadium',\n",
    "\n",
    "owner_cols = {\n",
    "    'Principal Owner': 'Owner',\n",
    "    'President': 'Owner',\n",
    "    'Chair': 'Owner',\n",
    "    'Co-Chairman': 'Owner',\n",
    "    'Chairman/Executive Vice President/Co-Owner': 'Owner',\n",
    "    'Owner/President': 'Owner',\n",
    "    'Owner/CEO': 'Owner',\n",
    "    'Majority Owner': 'Owner',\n",
    "    'Secretary of the Board of Directors': 'Owner',\n",
    "    'Principal Owner/President': 'Owner',\n",
    "    'Owner/President/General Manager': 'Owner',\n",
    "    'President/CEO': 'Owner',\n",
    "    'Principal Owner/CEO': 'Owner',\n",
    "    'Chairman/CEO': 'Owner',\n",
    "    'Owner': 'Owner',\n",
    "    'Controlling Owner/Chairman': 'Owner',\n",
    "    'Owner/Chairman': 'Owner',\n",
    "    'Chairman/Managing General Partner': 'Owner',\n",
    "    'Principal Owner/Chairman': 'Owner',\n",
    "    'Owner/Chairman of the Board': 'Owner',\n",
    "}\n",
    "\n",
    "gm_cols = {\n",
    "    'General Manager': 'General Manager',\n",
    "    'General Manager/Executive VP': 'General Manager',\n",
    "    'General Manager/Executive VP of Football Operations': 'General Manager',\n",
    "    'Director of Scouting/de facto GM': 'General Manager',\n",
    "    'Executive VP/General Manager': 'General Manager',\n",
    "    'Exec. VP of Football Ops/General Manager': 'General Manager',\n",
    "    'Director of Player Personnel': 'General Manager',\n",
    "    'Owner/President/General Manager': 'General Manager',\n",
    "}"
   ]
  },
  {
   "cell_type": "code",
   "execution_count": 74,
   "metadata": {},
   "outputs": [],
   "source": [
    "team_data = []\n",
    "for i in range(32):\n",
    "    s = teams.iloc[i]\n",
    "\n",
    "    t = s[['code', 'team', 'Coach', 'Offensive Coordinator', 'Defensive Coordinator', 'Stadium']]\n",
    "\n",
    "    owner = None\n",
    "    for c in list(owner_cols.keys()):\n",
    "        if str(s[c]) != 'nan':\n",
    "            owner = s[c]\n",
    "    if owner is None:\n",
    "        print(f'No owner for team {s.name}')\n",
    "    t['Owner'] = owner\n",
    "        \n",
    "    gm = None\n",
    "    for c in list(gm_cols.keys()):\n",
    "        if str(s[c]) != 'nan':\n",
    "            gm = s[c]\n",
    "    if gm is None:\n",
    "        print(f'No gm for team {s.name}')\n",
    "\n",
    "    t['General Manager'] = gm\n",
    "\n",
    "    team_data.append(t)"
   ]
  },
  {
   "cell_type": "code",
   "execution_count": 89,
   "metadata": {},
   "outputs": [],
   "source": [
    "teams = pd.DataFrame(team_data)"
   ]
  },
  {
   "cell_type": "code",
   "execution_count": 90,
   "metadata": {},
   "outputs": [],
   "source": [
    "teams.loc[teams['code'] == 'sfo', 'Offensive Coordinator'] = 'Chris Foerster'\n",
    "teams.loc[teams['code'] == 'sfo', 'Stadium'] = \"Levi's Stadium\"\n",
    "teams.loc[teams['code'].isna(), 'code'] = 'was'\n",
    "teams.loc[teams['team'].isna(), 'team'] = 'Washington Commanders'"
   ]
  },
  {
   "cell_type": "code",
   "execution_count": null,
   "metadata": {},
   "outputs": [],
   "source": [
    "teams.rename(columns={'team':'name', 'Coach':'coach', 'Offensive Coordinator':'off_coord', 'Defensive Coordinator':'def_coord', 'Stadium':'stadium', 'Owner':'owner', 'General Manager':'gm'}, inplace=True)"
   ]
  },
  {
   "cell_type": "code",
   "execution_count": 145,
   "metadata": {},
   "outputs": [],
   "source": [
    "teams.to_csv('teams.csv', index=False)"
   ]
  },
  {
   "cell_type": "code",
   "execution_count": 130,
   "metadata": {},
   "outputs": [
    {
     "data": {
      "text/html": [
       "<div>\n",
       "<style scoped>\n",
       "    .dataframe tbody tr th:only-of-type {\n",
       "        vertical-align: middle;\n",
       "    }\n",
       "\n",
       "    .dataframe tbody tr th {\n",
       "        vertical-align: top;\n",
       "    }\n",
       "\n",
       "    .dataframe thead th {\n",
       "        text-align: right;\n",
       "    }\n",
       "</style>\n",
       "<table border=\"1\" class=\"dataframe\">\n",
       "  <thead>\n",
       "    <tr style=\"text-align: right;\">\n",
       "      <th></th>\n",
       "      <th>code</th>\n",
       "      <th>team</th>\n",
       "      <th>Coach</th>\n",
       "      <th>Offensive Coordinator</th>\n",
       "      <th>Defensive Coordinator</th>\n",
       "      <th>Stadium</th>\n",
       "      <th>Owner</th>\n",
       "      <th>General Manager</th>\n",
       "    </tr>\n",
       "  </thead>\n",
       "  <tbody>\n",
       "    <tr>\n",
       "      <th>0</th>\n",
       "      <td>crd</td>\n",
       "      <td>Arizona Cardinals</td>\n",
       "      <td>Jonathan Gannon</td>\n",
       "      <td>Drew Petzing</td>\n",
       "      <td>Nick Rallis</td>\n",
       "      <td>State Farm Stadium</td>\n",
       "      <td>Michael Bidwill</td>\n",
       "      <td>Monti Ossenfort</td>\n",
       "    </tr>\n",
       "    <tr>\n",
       "      <th>1</th>\n",
       "      <td>atl</td>\n",
       "      <td>Atlanta Falcons</td>\n",
       "      <td>Raheem Morris</td>\n",
       "      <td>Zac Robinson</td>\n",
       "      <td>Jimmy Lake</td>\n",
       "      <td>Mercedes-Benz Stadium</td>\n",
       "      <td>Arthur Blank</td>\n",
       "      <td>Terry Fontenot</td>\n",
       "    </tr>\n",
       "    <tr>\n",
       "      <th>2</th>\n",
       "      <td>rav</td>\n",
       "      <td>Baltimore Ravens</td>\n",
       "      <td>John Harbaugh</td>\n",
       "      <td>Todd Monken</td>\n",
       "      <td>Zach Orr</td>\n",
       "      <td>M&amp;T Bank Stadium</td>\n",
       "      <td>Steve Bisciotti</td>\n",
       "      <td>Eric DeCosta</td>\n",
       "    </tr>\n",
       "    <tr>\n",
       "      <th>3</th>\n",
       "      <td>buf</td>\n",
       "      <td>Buffalo Bills</td>\n",
       "      <td>Sean McDermott</td>\n",
       "      <td>Joe Brady</td>\n",
       "      <td>Bobby Babich</td>\n",
       "      <td>Highmark Stadium</td>\n",
       "      <td>Terry Pegula</td>\n",
       "      <td>Brandon Beane</td>\n",
       "    </tr>\n",
       "    <tr>\n",
       "      <th>4</th>\n",
       "      <td>car</td>\n",
       "      <td>Carolina Panthers</td>\n",
       "      <td>Dave Canales</td>\n",
       "      <td>Brad Idzik</td>\n",
       "      <td>Ejiro Evero</td>\n",
       "      <td>Bank of America Stadium</td>\n",
       "      <td>David Tepper</td>\n",
       "      <td>Dan Morgan</td>\n",
       "    </tr>\n",
       "  </tbody>\n",
       "</table>\n",
       "</div>"
      ],
      "text/plain": [
       "  code               team            Coach Offensive Coordinator  \\\n",
       "0  crd  Arizona Cardinals  Jonathan Gannon          Drew Petzing   \n",
       "1  atl    Atlanta Falcons    Raheem Morris          Zac Robinson   \n",
       "2  rav   Baltimore Ravens    John Harbaugh           Todd Monken   \n",
       "3  buf      Buffalo Bills   Sean McDermott             Joe Brady   \n",
       "4  car  Carolina Panthers     Dave Canales            Brad Idzik   \n",
       "\n",
       "  Defensive Coordinator                  Stadium            Owner  \\\n",
       "0           Nick Rallis       State Farm Stadium  Michael Bidwill   \n",
       "1            Jimmy Lake    Mercedes-Benz Stadium     Arthur Blank   \n",
       "2              Zach Orr         M&T Bank Stadium  Steve Bisciotti   \n",
       "3          Bobby Babich         Highmark Stadium     Terry Pegula   \n",
       "4           Ejiro Evero  Bank of America Stadium     David Tepper   \n",
       "\n",
       "   General Manager  \n",
       "0  Monti Ossenfort  \n",
       "1   Terry Fontenot  \n",
       "2     Eric DeCosta  \n",
       "3    Brandon Beane  \n",
       "4       Dan Morgan  "
      ]
     },
     "execution_count": 130,
     "metadata": {},
     "output_type": "execute_result"
    }
   ],
   "source": [
    "teams.head()"
   ]
  },
  {
   "cell_type": "code",
   "execution_count": 164,
   "metadata": {},
   "outputs": [],
   "source": [
    "players = pd.read_csv('players.csv')"
   ]
  },
  {
   "cell_type": "code",
   "execution_count": 51,
   "metadata": {},
   "outputs": [],
   "source": [
    "players.yrs = players.yrs.replace('Rook', '0')\n",
    "# players.reset_index(inplace=True, names='id')\n",
    "players['status'] = players.player.str.split(' \\(').str[1].str[:-1].fillna('ACT')\n",
    "players.player = players.player.str.split(' \\(').str[0]\n",
    "\n",
    "players = players.fillna({'draft': ' /  /  / ', 'ht': '0-0'})\n",
    "\n",
    "for i in range(len(players)):\n",
    "    draft = players.iloc[i].draft.split(' / ')\n",
    "    players.loc[players.index == i, 'draft_team'] = draft[0]\n",
    "    players.loc[players.index == i, 'draft_year'] = draft[3]\n",
    "    players.loc[players.index == i, 'round'] = draft[1][:-2]\n",
    "    players.loc[players.index == i, 'pick'] = draft[2][:-7]\n",
    "\n",
    "players = players.replace('', 'NULL').drop(columns=['draft']).fillna('NULL')\n",
    "players.ht = (players.ht.str.split('-').str[0].astype(int) * 12 + \n",
    "              players.ht.str.split('-').str[1].astype(int)).replace(0, 'NULL')"
   ]
  },
  {
   "cell_type": "code",
   "execution_count": 55,
   "metadata": {},
   "outputs": [],
   "source": [
    "players = players[['code', 'team', 'player', 'num', 'pos', 'age', 'yrs', 'g', 'gs', 'status', 'ht', \n",
    "         'wt', 'birth', 'college', 'draft_team', 'draft_year', 'round', \n",
    "         'pick']].rename(columns={'g':'games_played', 'gs':'games_started'})\n",
    "\n",
    "players.to_csv('players.csv', index=False)"
   ]
  },
  {
   "cell_type": "code",
   "execution_count": 176,
   "metadata": {},
   "outputs": [],
   "source": [
    "players = pd.read_csv('players.csv')"
   ]
  },
  {
   "cell_type": "code",
   "execution_count": 177,
   "metadata": {},
   "outputs": [],
   "source": [
    "players = players.fillna('NULL')"
   ]
  },
  {
   "cell_type": "code",
   "execution_count": 178,
   "metadata": {},
   "outputs": [],
   "source": [
    "players.num = players.num.astype(str).str.replace('.0', '', regex=False)\n",
    "players.age = players.age.astype(str).str.replace('.0', '', regex=False)\n",
    "players.ht = players.ht.astype(str).str.replace('.0', '', regex=False)\n",
    "players['round'] = players['round'].astype(str).str.replace('.0', '', regex=False)\n",
    "players.pick = players.pick.astype(str).str.replace('.0', '', regex=False)"
   ]
  },
  {
   "cell_type": "code",
   "execution_count": 179,
   "metadata": {},
   "outputs": [],
   "source": [
    "players.rename(columns={'yrs':'years', 'ht':'height', 'wt':'weight'}, inplace=True)"
   ]
  },
  {
   "cell_type": "code",
   "execution_count": 211,
   "metadata": {},
   "outputs": [],
   "source": [
    "players.draft_year = players.draft_year.str[:4]"
   ]
  },
  {
   "cell_type": "code",
   "execution_count": 146,
   "metadata": {},
   "outputs": [],
   "source": [
    "teams = pd.read_csv('teams.csv')\n",
    "players = pd.read_csv('players.csv')"
   ]
  },
  {
   "cell_type": "code",
   "execution_count": 212,
   "metadata": {},
   "outputs": [
    {
     "data": {
      "text/html": [
       "<div>\n",
       "<style scoped>\n",
       "    .dataframe tbody tr th:only-of-type {\n",
       "        vertical-align: middle;\n",
       "    }\n",
       "\n",
       "    .dataframe tbody tr th {\n",
       "        vertical-align: top;\n",
       "    }\n",
       "\n",
       "    .dataframe thead th {\n",
       "        text-align: right;\n",
       "    }\n",
       "</style>\n",
       "<table border=\"1\" class=\"dataframe\">\n",
       "  <thead>\n",
       "    <tr style=\"text-align: right;\">\n",
       "      <th></th>\n",
       "      <th>code</th>\n",
       "      <th>team</th>\n",
       "      <th>player</th>\n",
       "      <th>num</th>\n",
       "      <th>pos</th>\n",
       "      <th>age</th>\n",
       "      <th>years</th>\n",
       "      <th>games_played</th>\n",
       "      <th>games_started</th>\n",
       "      <th>status</th>\n",
       "      <th>height</th>\n",
       "      <th>weight</th>\n",
       "      <th>birth</th>\n",
       "      <th>college</th>\n",
       "      <th>draft_team</th>\n",
       "      <th>draft_year</th>\n",
       "      <th>round</th>\n",
       "      <th>pick</th>\n",
       "    </tr>\n",
       "  </thead>\n",
       "  <tbody>\n",
       "    <tr>\n",
       "      <th>0</th>\n",
       "      <td>crd</td>\n",
       "      <td>Arizona Cardinals</td>\n",
       "      <td>Isaiah Adams</td>\n",
       "      <td>74</td>\n",
       "      <td>OL</td>\n",
       "      <td>24</td>\n",
       "      <td>0</td>\n",
       "      <td>4</td>\n",
       "      <td>0</td>\n",
       "      <td>ACT</td>\n",
       "      <td>NULL</td>\n",
       "      <td>316</td>\n",
       "      <td>7/21/2000</td>\n",
       "      <td>Wilfrid Laurier,Garden City (KS),Illinois</td>\n",
       "      <td>Arizona Cardinals</td>\n",
       "      <td>2024</td>\n",
       "      <td>3</td>\n",
       "      <td>71</td>\n",
       "    </tr>\n",
       "    <tr>\n",
       "      <th>1</th>\n",
       "      <td>crd</td>\n",
       "      <td>Arizona Cardinals</td>\n",
       "      <td>Budda Baker</td>\n",
       "      <td>3</td>\n",
       "      <td>S</td>\n",
       "      <td>28</td>\n",
       "      <td>7</td>\n",
       "      <td>4</td>\n",
       "      <td>4</td>\n",
       "      <td>ACT</td>\n",
       "      <td>70</td>\n",
       "      <td>195</td>\n",
       "      <td>1/10/1996</td>\n",
       "      <td>Washington</td>\n",
       "      <td>Arizona Cardinals</td>\n",
       "      <td>2017</td>\n",
       "      <td>2</td>\n",
       "      <td>36</td>\n",
       "    </tr>\n",
       "    <tr>\n",
       "      <th>2</th>\n",
       "      <td>crd</td>\n",
       "      <td>Arizona Cardinals</td>\n",
       "      <td>Krys Barnes</td>\n",
       "      <td>51</td>\n",
       "      <td>LB</td>\n",
       "      <td>26</td>\n",
       "      <td>4</td>\n",
       "      <td>4</td>\n",
       "      <td>0</td>\n",
       "      <td>ACT</td>\n",
       "      <td>74</td>\n",
       "      <td>229</td>\n",
       "      <td>4/2/1998</td>\n",
       "      <td>UCLA</td>\n",
       "      <td>NULL</td>\n",
       "      <td>NULL</td>\n",
       "      <td>NULL</td>\n",
       "      <td>NULL</td>\n",
       "    </tr>\n",
       "    <tr>\n",
       "      <th>3</th>\n",
       "      <td>crd</td>\n",
       "      <td>Arizona Cardinals</td>\n",
       "      <td>Kelvin Beachum</td>\n",
       "      <td>68</td>\n",
       "      <td>OL</td>\n",
       "      <td>35</td>\n",
       "      <td>12</td>\n",
       "      <td>3</td>\n",
       "      <td>2</td>\n",
       "      <td>ACT</td>\n",
       "      <td>75</td>\n",
       "      <td>308</td>\n",
       "      <td>6/8/1989</td>\n",
       "      <td>SMU</td>\n",
       "      <td>Pittsburgh Steelers</td>\n",
       "      <td>2012</td>\n",
       "      <td>7</td>\n",
       "      <td>248</td>\n",
       "    </tr>\n",
       "    <tr>\n",
       "      <th>4</th>\n",
       "      <td>crd</td>\n",
       "      <td>Arizona Cardinals</td>\n",
       "      <td>Trey Benson</td>\n",
       "      <td>33</td>\n",
       "      <td>RB</td>\n",
       "      <td>21</td>\n",
       "      <td>0</td>\n",
       "      <td>4</td>\n",
       "      <td>1</td>\n",
       "      <td>ACT</td>\n",
       "      <td>73</td>\n",
       "      <td>223</td>\n",
       "      <td>7/21/2003</td>\n",
       "      <td>Oregon,Florida St.</td>\n",
       "      <td>Arizona Cardinals</td>\n",
       "      <td>2024</td>\n",
       "      <td>3</td>\n",
       "      <td>66</td>\n",
       "    </tr>\n",
       "  </tbody>\n",
       "</table>\n",
       "</div>"
      ],
      "text/plain": [
       "  code               team          player num pos age  years  games_played  \\\n",
       "0  crd  Arizona Cardinals    Isaiah Adams  74  OL  24      0             4   \n",
       "1  crd  Arizona Cardinals     Budda Baker   3   S  28      7             4   \n",
       "2  crd  Arizona Cardinals     Krys Barnes  51  LB  26      4             4   \n",
       "3  crd  Arizona Cardinals  Kelvin Beachum  68  OL  35     12             3   \n",
       "4  crd  Arizona Cardinals     Trey Benson  33  RB  21      0             4   \n",
       "\n",
       "   games_started status height  weight      birth  \\\n",
       "0              0    ACT   NULL     316  7/21/2000   \n",
       "1              4    ACT     70     195  1/10/1996   \n",
       "2              0    ACT     74     229   4/2/1998   \n",
       "3              2    ACT     75     308   6/8/1989   \n",
       "4              1    ACT     73     223  7/21/2003   \n",
       "\n",
       "                                     college           draft_team draft_year  \\\n",
       "0  Wilfrid Laurier,Garden City (KS),Illinois    Arizona Cardinals       2024   \n",
       "1                                 Washington    Arizona Cardinals       2017   \n",
       "2                                       UCLA                 NULL       NULL   \n",
       "3                                        SMU  Pittsburgh Steelers       2012   \n",
       "4                         Oregon,Florida St.    Arizona Cardinals       2024   \n",
       "\n",
       "  round  pick  \n",
       "0     3    71  \n",
       "1     2    36  \n",
       "2  NULL  NULL  \n",
       "3     7   248  \n",
       "4     3    66  "
      ]
     },
     "execution_count": 212,
     "metadata": {},
     "output_type": "execute_result"
    }
   ],
   "source": [
    "players.head()"
   ]
  },
  {
   "cell_type": "code",
   "execution_count": 218,
   "metadata": {},
   "outputs": [],
   "source": [
    "types = ['char(3) not null', 'varchar(45) not null', 'varchar(45) not null', \n",
    "         'varchar(45) not null', 'varchar(45) not null', 'varchar(45) not null', \n",
    "         'varchar(45) not null', 'varchar(45) not null']\n",
    "\n",
    "script = 'drop table if exists team;\\n'\n",
    "script += 'create table team (\\n\\t`id` int not null auto_increment primary key,\\n'\n",
    "for col, t in zip(teams.columns, types):\n",
    "    script += f'\\t`{col}` {t},\\n'\n",
    "script = script[:-2] + '\\n);\\n'\n",
    "\n",
    "script += f\"\\ninsert into team({', '.join(teams.columns)}) values\\n\"\n",
    "for i in range(len(teams)):\n",
    "    team = teams.iloc[i]\n",
    "    \n",
    "    line = '\\t('\n",
    "    for col, t in zip(team.values, types):\n",
    "        line += f'\"{col}\"'\n",
    "        line += ', '\n",
    "    script += line[:-2] + '),\\n'\n",
    "    \n",
    "script = script[:-2] + ';\\n'"
   ]
  },
  {
   "cell_type": "code",
   "execution_count": 219,
   "metadata": {},
   "outputs": [],
   "source": [
    "types = ['char(3) not null', 'varchar(45) not null', 'varchar(45) not null', 'int', \n",
    "         'varchar(5)', 'int', 'int', 'int', 'int', 'varchar(5)', 'int', 'int', \n",
    "         'varchar(10)', 'varchar(100)', 'varchar(45)', 'int', 'int', 'int']\n",
    "\n",
    "script += '\\ndrop table if exists player;\\n'\n",
    "script += 'create table player (\\n\\t`id` int not null auto_increment primary key,\\n'\n",
    "for col, t in zip(players.columns, types):\n",
    "    script += f'\\t`{col}` {t},\\n'\n",
    "script = script[:-2] + '\\n);\\n'\n",
    "\n",
    "script += f'\\ninsert into player({\", \".join(players.columns)}) values\\n'\n",
    "for i in range(len(players)):\n",
    "    player = players.iloc[i]\n",
    "    \n",
    "    line = '\\t('\n",
    "    for col, t in zip(player.values, types):\n",
    "        if t == 'int':\n",
    "            line += str(col)\n",
    "        else:\n",
    "            if col == 'NULL':\n",
    "                line += 'NULL'\n",
    "            else:\n",
    "                line += f'\"{col}\"'\n",
    "        line += ', '\n",
    "    script += line[:-2] + '),\\n'\n",
    "    \n",
    "script = script[:-2] + ';\\n'"
   ]
  },
  {
   "cell_type": "code",
   "execution_count": 220,
   "metadata": {},
   "outputs": [],
   "source": [
    "with open('load_data.sql', 'w', encoding='utf-8') as f:\n",
    "    f.write(script)"
   ]
  },
  {
   "cell_type": "code",
   "execution_count": 1,
   "metadata": {},
   "outputs": [],
   "source": [
    "with open('load_data.sql', 'r', encoding='utf-8') as f:\n",
    "    script = f.read()"
   ]
  },
  {
   "cell_type": "code",
   "execution_count": 8,
   "metadata": {},
   "outputs": [],
   "source": [
    "script = script.replace(\"'\", \"''\").replace('\"', \"'\").replace('`', '').replace('int not null auto_increment', 'serial')"
   ]
  },
  {
   "cell_type": "code",
   "execution_count": 9,
   "metadata": {},
   "outputs": [],
   "source": [
    "with open('load_post.sql', 'w', encoding='utf-8') as f:\n",
    "    f.write(script)"
   ]
  },
  {
   "cell_type": "code",
   "execution_count": null,
   "metadata": {},
   "outputs": [],
   "source": []
  }
 ],
 "metadata": {
  "kernelspec": {
   "display_name": "Python 3",
   "language": "python",
   "name": "python3"
  },
  "language_info": {
   "codemirror_mode": {
    "name": "ipython",
    "version": 3
   },
   "file_extension": ".py",
   "mimetype": "text/x-python",
   "name": "python",
   "nbconvert_exporter": "python",
   "pygments_lexer": "ipython3",
   "version": "3.10.9"
  }
 },
 "nbformat": 4,
 "nbformat_minor": 2
}
